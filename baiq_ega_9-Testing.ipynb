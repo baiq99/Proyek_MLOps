{
 "cells": [
  {
   "cell_type": "code",
   "execution_count": 21,
   "metadata": {},
   "outputs": [],
   "source": [
    "import tensorflow as tf\n",
    "import pandas as pd\n",
    "import requests\n",
    "import json\n",
    "import base64"
   ]
  },
  {
   "cell_type": "code",
   "execution_count": 22,
   "metadata": {},
   "outputs": [],
   "source": [
    "df   = pd.read_csv('data\\Balanced_Suicide_Detection.csv')\n",
    "text = df['text'][2]"
   ]
  },
  {
   "cell_type": "code",
   "execution_count": 23,
   "metadata": {},
   "outputs": [],
   "source": [
    "def prepare_json(text):\n",
    "    feature_spec = {\n",
    "        'text': tf.train.Feature(bytes_list=tf.train.BytesList(value=[bytes(text, 'utf-8')]))\n",
    "    }\n",
    "    \n",
    "    example = tf.train.Example(\n",
    "        features=tf.train.Features(feature=feature_spec)\n",
    "    ).SerializeToString()\n",
    "    \n",
    "    result = [{\n",
    "        'examples': {\n",
    "            'b64': base64.b64encode(example).decode()\n",
    "        }\n",
    "    }]\n",
    "    \n",
    "    return json.dumps({\n",
    "        'signature_name': 'serving_default',\n",
    "        'instances': result\n",
    "    })"
   ]
  },
  {
   "cell_type": "code",
   "execution_count": 24,
   "metadata": {},
   "outputs": [],
   "source": [
    "def predict(text):\n",
    "    response = requests.post(\n",
    "        'http://localhost:8501/v1/models/suicide-model:predict',\n",
    "        data = prepare_json(text)\n",
    "    )\n",
    "    \n",
    "    predict = response.json()['predictions'][0][0]\n",
    "    return predict"
   ]
  },
  {
   "cell_type": "code",
   "execution_count": 25,
   "metadata": {},
   "outputs": [
    {
     "name": "stdout",
     "output_type": "stream",
     "text": [
      "How do I hang myself so I die instantly and not choke?i don't really like the idea of doing it wrong and thought this would be the best place to ask, this will get taken down soon so plz reply fast.\n",
      "\n",
      "This is Suicide Teks (0.860787332)\n"
     ]
    }
   ],
   "source": [
    "predict = predict(text)\n",
    "\n",
    "print(f'{text}\\n')\n",
    "print(f'This is Suicide Teks ({predict})' if predict > 0.6 else f'This is Not Suicide Teks ({predict})')"
   ]
  }
 ],
 "metadata": {
  "kernelspec": {
   "display_name": "mlops-tfx",
   "language": "python",
   "name": "python3"
  },
  "language_info": {
   "codemirror_mode": {
    "name": "ipython",
    "version": 3
   },
   "file_extension": ".py",
   "mimetype": "text/x-python",
   "name": "python",
   "nbconvert_exporter": "python",
   "pygments_lexer": "ipython3",
   "version": "3.9.21"
  },
  "orig_nbformat": 4,
  "vscode": {
   "interpreter": {
    "hash": "e7d16e420a500589d7fb92e979bd72589b3fc65dcfadaa4a204e300fcee3217b"
   }
  }
 },
 "nbformat": 4,
 "nbformat_minor": 2
}
